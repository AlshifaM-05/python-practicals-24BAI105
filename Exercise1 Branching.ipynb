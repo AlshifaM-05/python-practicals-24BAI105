{
 "cells": [
  {
   "cell_type": "code",
   "execution_count": 6,
   "id": "9ff1fde2-c45b-468d-82a9-25bcdbc66539",
   "metadata": {},
   "outputs": [
    {
     "name": "stdin",
     "output_type": "stream",
     "text": [
      "Enter the rollno: 10\n",
      "Enter the name: eggi\n",
      "Enter m1: 88\n",
      "Enter m2: 89\n",
      "Enter m3: 98\n",
      "Enter m4: 97\n",
      "Enter m5: 86\n"
     ]
    },
    {
     "name": "stdout",
     "output_type": "stream",
     "text": [
      "Total marks 458\n",
      "Average marks: 91.6\n",
      "A+ grade\n"
     ]
    }
   ],
   "source": [
    "#To calculate student grade details\n",
    "rollno=int(input(\"Enter the rollno:\"))\n",
    "name=input(\"Enter the name:\")\n",
    "m1=int(input(\"Enter m1:\"))\n",
    "m2=int(input(\"Enter m2:\"))\n",
    "m3=int(input(\"Enter m3:\"))\n",
    "m4=int(input(\"Enter m4:\"))\n",
    "m5=int(input(\"Enter m5:\"))\n",
    "total=m1+m2+m3+m4+m5\n",
    "print(\"Total marks\",total)\n",
    "avg=total/5\n",
    "print(\"Average marks:\",avg)\n",
    "if avg>=90 and avg<100:\n",
    "    print(\"A+ grade\")\n",
    "elif avg>=80 and avg<90:\n",
    "    print(\"A grade\")\n",
    "elif avg>=70 and avg<80:\n",
    "    print(\"B grade\")\n",
    "elif avg>=60 and avg<70:\n",
    "    print(\"C grade\")\n",
    "elif avg>=50 and avg<60:\n",
    "    print(\"D grade\")\n",
    "elif avg>=40 and avg<50:\n",
    "    print(\"E grade\")\n",
    "elif avg>=35 and avg<40:\n",
    "    print(\"Just pass\")\n",
    "else:\n",
    "    print(\"Fail\")"
   ]
  },
  {
   "cell_type": "code",
   "execution_count": 7,
   "id": "7dbbd9cd-6360-4133-8312-6f5e587a20f9",
   "metadata": {},
   "outputs": [
    {
     "name": "stdin",
     "output_type": "stream",
     "text": [
      "Enter the year: 2024\n"
     ]
    },
    {
     "name": "stdout",
     "output_type": "stream",
     "text": [
      "It's a leap year\n"
     ]
    }
   ],
   "source": [
    "#Leap-year checker using if-else condition\n",
    "year=int(input(\"Enter the year:\"))\n",
    "if(year%4==0 and year%100!=0)or(year%400==0):\n",
    "    print(\"It's a leap year\")\n",
    "else:\n",
    "    print(\"It's not a leap year\")"
   ]
  },
  {
   "cell_type": "code",
   "execution_count": 8,
   "id": "c4ff7189-44e6-442b-bd67-5e75ddf7b96c",
   "metadata": {},
   "outputs": [
    {
     "name": "stdin",
     "output_type": "stream",
     "text": [
      "Enter a number: 4\n"
     ]
    },
    {
     "name": "stdout",
     "output_type": "stream",
     "text": [
      "The given number is even\n"
     ]
    }
   ],
   "source": [
    "#Check Whether a number is odd or even\n",
    "n=int(input(\"Enter a number:\"))\n",
    "if n%2==0:\n",
    "    print(\"The given number is even\")\n",
    "else:\n",
    "    print(\"The given number is odd\")"
   ]
  },
  {
   "cell_type": "code",
   "execution_count": 9,
   "id": "dbc6bf72-3ccf-4c9d-a43c-ccb9b96777df",
   "metadata": {},
   "outputs": [
    {
     "name": "stdin",
     "output_type": "stream",
     "text": [
      "Enter num1: 4\n",
      "Enter num2: 6\n"
     ]
    },
    {
     "name": "stdout",
     "output_type": "stream",
     "text": [
      "A is smaller than B\n"
     ]
    }
   ],
   "source": [
    "#Comparision of Two numbers\n",
    "a=int(input(\"Enter num1:\"))\n",
    "b=int(input(\"Enter num2:\"))\n",
    "if a>b:\n",
    "    print(\"A is greater than B\")\n",
    "elif a<b:\n",
    "    print(\"A is smaller than B\")\n",
    "else:\n",
    "    print(\"A is equal to B\")\n",
    "    "
   ]
  },
  {
   "cell_type": "code",
   "execution_count": null,
   "id": "65395021-b4ff-4575-ae16-db07080f2a94",
   "metadata": {},
   "outputs": [],
   "source": []
  }
 ],
 "metadata": {
  "kernelspec": {
   "display_name": "Python 3 (ipykernel)",
   "language": "python",
   "name": "python3"
  },
  "language_info": {
   "codemirror_mode": {
    "name": "ipython",
    "version": 3
   },
   "file_extension": ".py",
   "mimetype": "text/x-python",
   "name": "python",
   "nbconvert_exporter": "python",
   "pygments_lexer": "ipython3",
   "version": "3.13.5"
  }
 },
 "nbformat": 4,
 "nbformat_minor": 5
}
