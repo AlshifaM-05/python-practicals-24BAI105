{
 "cells": [
  {
   "cell_type": "code",
   "execution_count": 1,
   "id": "3dad6375-94be-486a-96f9-1a142e4366e2",
   "metadata": {},
   "outputs": [
    {
     "name": "stdout",
     "output_type": "stream",
     "text": [
      "[2, 4, 6, 8, 10] ['Red', 'blue', 'pink', 'yellow', 'black'] [109, 80.9, 'Ashifa', True] []\n"
     ]
    }
   ],
   "source": [
    "#Creating a list \n",
    "numbers=[2,4,6,8,10]\n",
    "colors=[\"Red\",\"blue\",\"pink\",\"yellow\",\"black\"]\n",
    "combined_list=[109,80.9,\"Ashifa\",True]\n",
    "empty_list=[]\n",
    "print(numbers,colors,combined_list,empty_list)"
   ]
  },
  {
   "cell_type": "code",
   "execution_count": 2,
   "id": "0a944a22-c488-4a07-b629-582debad3e56",
   "metadata": {},
   "outputs": [
    {
     "name": "stdout",
     "output_type": "stream",
     "text": [
      "Red\n",
      "Red\n",
      "black\n",
      "black\n"
     ]
    }
   ],
   "source": [
    "#Accessing list elements\n",
    "colors=[\"Red\",\"blue\",\"pink\",\"yellow\",\"black\"]\n",
    "print(colors[0])\n",
    "print(colors[-5])\n",
    "print(colors[4])\n",
    "print(colors[-1])"
   ]
  },
  {
   "cell_type": "code",
   "execution_count": 3,
   "id": "57295790-e674-4f95-86b1-8f3440554cc3",
   "metadata": {},
   "outputs": [
    {
     "name": "stdout",
     "output_type": "stream",
     "text": [
      "['Red', 'Lavender', 'Green', 'yellow', 'black']\n"
     ]
    }
   ],
   "source": [
    "#Modify a list\n",
    "colors=[\"Red\",\"blue\",\"pink\",\"yellow\",\"black\"]\n",
    "colors[1]=\"Lavender\"\n",
    "colors[2]=\"Green\"\n",
    "print(colors)"
   ]
  },
  {
   "cell_type": "code",
   "execution_count": 4,
   "id": "6d588e09-34d6-4918-9133-2836f2181d35",
   "metadata": {},
   "outputs": [
    {
     "name": "stdout",
     "output_type": "stream",
     "text": [
      "['Red', 'Orange', 'blue', 'pink', 'yellow', 'black', 'White']\n"
     ]
    }
   ],
   "source": [
    "#Common list operations-01\n",
    "colors=[\"Red\",\"blue\",\"pink\",\"yellow\",\"black\"]\n",
    "colors.append(\"White\")\n",
    "colors.insert(1,\"Orange\")\n",
    "print(colors)"
   ]
  },
  {
   "cell_type": "code",
   "execution_count": 5,
   "id": "88b8a159-519d-46fc-a32b-85eb94d93e2f",
   "metadata": {},
   "outputs": [
    {
     "name": "stdout",
     "output_type": "stream",
     "text": [
      "['Red', 'blue', 'pink', 'yellow']\n"
     ]
    }
   ],
   "source": [
    "#Common list operations-02\n",
    "colors=[\"Red\",\"blue\",\"pink\",\"yellow\",\"black\"]\n",
    "colors.pop()\n",
    "print(colors)"
   ]
  },
  {
   "cell_type": "code",
   "execution_count": 6,
   "id": "a9abf42c-8df7-4440-be29-968bba7bd925",
   "metadata": {},
   "outputs": [
    {
     "name": "stdout",
     "output_type": "stream",
     "text": [
      "['blue', 'pink', 'yellow', 'black']\n"
     ]
    }
   ],
   "source": [
    "#Common list operations-03\n",
    "colors=[\"Red\",\"blue\",\"pink\",\"yellow\",\"black\"]\n",
    "colors.remove(\"Red\")\n",
    "print(colors)"
   ]
  },
  {
   "cell_type": "code",
   "execution_count": 7,
   "id": "642005fe-7b4a-4e61-aef6-0134be22d19f",
   "metadata": {},
   "outputs": [
    {
     "name": "stdout",
     "output_type": "stream",
     "text": [
      "5\n",
      "4\n"
     ]
    }
   ],
   "source": [
    "#Common list operations-04\n",
    "colors=[\"Red\",\"blue\",\"pink\",\"yellow\",\"black\"]\n",
    "combined_list=[109,80.9,\"Ashifa\",True]\n",
    "print(len(colors))\n",
    "print(len(combined_list))"
   ]
  },
  {
   "cell_type": "code",
   "execution_count": 8,
   "id": "59f4e387-8fe0-4ce8-82b5-4ed011ea509b",
   "metadata": {},
   "outputs": [
    {
     "name": "stdout",
     "output_type": "stream",
     "text": [
      "5\n",
      "98\n",
      "[5, 20, 25, 34, 98]\n",
      "[98, 34, 25, 20, 5]\n"
     ]
    }
   ],
   "source": [
    "#Build-in functions in list\n",
    "a=[5,34,98,20,25]\n",
    "print(min(a))\n",
    "print(max(a))\n",
    "a.sort()\n",
    "print(a)\n",
    "a.reverse()\n",
    "print(a)"
   ]
  },
  {
   "cell_type": "code",
   "execution_count": 9,
   "id": "d681eab9-8529-4303-bd23-60eddbe8b1ad",
   "metadata": {},
   "outputs": [
    {
     "name": "stdout",
     "output_type": "stream",
     "text": [
      "Red\n",
      "blue\n",
      "pink\n",
      "yellow\n",
      "black\n"
     ]
    }
   ],
   "source": [
    "#Looping in list\n",
    "colors=[\"Red\",\"blue\",\"pink\",\"yellow\",\"black\"]\n",
    "for i in colors:\n",
    "    print(i)"
   ]
  },
  {
   "cell_type": "code",
   "execution_count": 10,
   "id": "5b6c7682-4ff7-42bd-bb39-712fa3a79170",
   "metadata": {},
   "outputs": [
    {
     "name": "stdout",
     "output_type": "stream",
     "text": [
      "[5, 34]\n",
      "[25, 20, 98, 34, 5]\n"
     ]
    }
   ],
   "source": [
    "#List slicing\n",
    "a=[5,34,98,20,25]\n",
    "print(a[0:2])\n",
    "print(a[::-1])"
   ]
  },
  {
   "cell_type": "code",
   "execution_count": 11,
   "id": "fda7640e-229f-4584-a230-b2c8dc215402",
   "metadata": {},
   "outputs": [
    {
     "name": "stdout",
     "output_type": "stream",
     "text": [
      "[1, 4, 9, 16, 25]\n"
     ]
    }
   ],
   "source": [
    "#Square of a number from ranges 1 to 5\n",
    "s=[n**2 for n in range(1,6)]\n",
    "print(s)"
   ]
  },
  {
   "cell_type": "code",
   "execution_count": 12,
   "id": "5a3163a8-abf3-4516-ba81-2ea204954b8a",
   "metadata": {},
   "outputs": [
    {
     "name": "stdout",
     "output_type": "stream",
     "text": [
      "[25, 4, 16, 49, 64]\n"
     ]
    }
   ],
   "source": [
    "#Square of numbers\n",
    "l1=[5,2,4,7,8]\n",
    "s=[n**2 for n in l1]\n",
    "print(s)"
   ]
  },
  {
   "cell_type": "code",
   "execution_count": 13,
   "id": "46a55989-e630-4e17-ba0f-1458c9b2574d",
   "metadata": {},
   "outputs": [
    {
     "name": "stdout",
     "output_type": "stream",
     "text": [
      "3\n"
     ]
    }
   ],
   "source": [
    "#Count how many numbers are even in the list\n",
    "z=[3,8,9,10,45,22]\n",
    "w=0\n",
    "for n in z:\n",
    "    if n%2==0:\n",
    "        w+=1\n",
    "print(w)"
   ]
  },
  {
   "cell_type": "code",
   "execution_count": 16,
   "id": "e2565327-873d-49d2-907e-7a17ad7af767",
   "metadata": {},
   "outputs": [
    {
     "name": "stdout",
     "output_type": "stream",
     "text": [
      "chocki\n",
      "kinder\n",
      "Joy\n",
      "fuse\n",
      "['chocki', 'dairy', 'kinder', 'Joy', 'fuse']\n",
      "['chocki', 'dairy', 'kinder', 'Joy']\n",
      "['Joy', 'chocki', 'dairy', 'kinder']\n",
      "Joy\n",
      "chocki\n",
      "dairy\n",
      "kinder\n"
     ]
    },
    {
     "name": "stdin",
     "output_type": "stream",
     "text": [
      "Enter the name: kinder\n"
     ]
    },
    {
     "name": "stdout",
     "output_type": "stream",
     "text": [
      "The name is not present in the list\n"
     ]
    }
   ],
   "source": [
    "#Exercise 1\n",
    "student=[]\n",
    "student.append(\"chocki\")\n",
    "student.append(\"kinder\")\n",
    "student.append(\"Joy\")\n",
    "student.append(\"fuse\")\n",
    "for i in student:\n",
    "    print(i)\n",
    "student.insert(1,\"dairy\")\n",
    "print(student)\n",
    "student.remove(\"fuse\")\n",
    "print(student)\n",
    "student.sort()\n",
    "print(student)\n",
    "for i in student:\n",
    "    print(i)\n",
    "a=input(\"Enter the name:\")\n",
    "for i in student:\n",
    "    if i==a:\n",
    "        print(\"The name is present in the list\")\n",
    "    else:\n",
    "        print(\"The name is not present in the list\")\n",
    "    break"
   ]
  },
  {
   "cell_type": "code",
   "execution_count": 17,
   "id": "9fc72989-a86c-47d7-b82a-1c85f3f48f93",
   "metadata": {},
   "outputs": [
    {
     "name": "stdout",
     "output_type": "stream",
     "text": [
      "{2, 5, 6, 9, 10}\n",
      "{'milky', 'joy', 'kinder', 'bar'}\n"
     ]
    }
   ],
   "source": [
    "#Removing duplicates from the list\n",
    "x=[2,5,6,9,5,2,10]\n",
    "y=[\"kinder\",\"joy\",\"milky\",\"bar\"]\n",
    "print(set(x))\n",
    "print(set(y))"
   ]
  },
  {
   "cell_type": "code",
   "execution_count": null,
   "id": "b7313519-2291-4020-a237-cab5eaadf98d",
   "metadata": {},
   "outputs": [],
   "source": []
  }
 ],
 "metadata": {
  "kernelspec": {
   "display_name": "Python 3 (ipykernel)",
   "language": "python",
   "name": "python3"
  },
  "language_info": {
   "codemirror_mode": {
    "name": "ipython",
    "version": 3
   },
   "file_extension": ".py",
   "mimetype": "text/x-python",
   "name": "python",
   "nbconvert_exporter": "python",
   "pygments_lexer": "ipython3",
   "version": "3.13.5"
  }
 },
 "nbformat": 4,
 "nbformat_minor": 5
}
