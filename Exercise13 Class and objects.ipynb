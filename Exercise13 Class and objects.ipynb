{
 "cells": [
  {
   "cell_type": "code",
   "execution_count": 2,
   "id": "da23a289-74d5-4955-8226-36ea8ced72cc",
   "metadata": {},
   "outputs": [
    {
     "name": "stdout",
     "output_type": "stream",
     "text": [
      "Welcome\n"
     ]
    }
   ],
   "source": [
    "#class and object example 01\n",
    "class student1:\n",
    "    def show(self):\n",
    "        print(\"Welcome\")\n",
    "d=student1()\n",
    "d.show()"
   ]
  },
  {
   "cell_type": "code",
   "execution_count": 3,
   "id": "e6c333a9-4278-42e0-a112-fc07db00d5e7",
   "metadata": {},
   "outputs": [
    {
     "name": "stdout",
     "output_type": "stream",
     "text": [
      "10\n"
     ]
    }
   ],
   "source": [
    "#class and object example 02\n",
    "class sum:\n",
    "    def add(self,a,b):\n",
    "        print(a+b)\n",
    "s=sum()\n",
    "s.add(6,4)"
   ]
  },
  {
   "cell_type": "code",
   "execution_count": 5,
   "id": "29f8dda3-eeba-4c5b-9539-f70a843a8760",
   "metadata": {},
   "outputs": [
    {
     "name": "stdout",
     "output_type": "stream",
     "text": [
      "Name: Alfhiya\n",
      "Grade: 0\n",
      "Name: Alshifa\n",
      "Grade: A+\n"
     ]
    }
   ],
   "source": [
    "#student details\n",
    "class student:\n",
    "    def __init__(self, name, grade):\n",
    "        self.name=name\n",
    "        self.grade=grade\n",
    "    def display(self):\n",
    "        print(\"Name:\", self.name)\n",
    "        print(\"Grade:\", self.grade)\n",
    "s1=student(\"Alfhiya\",\"0\")\n",
    "s1.display()\n",
    "s2=student(\"Alshifa\", \"A+\")\n",
    "s2.display()"
   ]
  },
  {
   "cell_type": "code",
   "execution_count": 13,
   "id": "7cbe67f2-4c9d-4251-9cf3-4e17275448ed",
   "metadata": {},
   "outputs": [
    {
     "name": "stdout",
     "output_type": "stream",
     "text": [
      "Deposit: 2000, New Balance: 3000\n",
      "Withdraw: 1000, New Balance: 2000\n",
      "Deposit: 4000, New Balance: 6000\n",
      "Withdraw: 2000, New Balance: 4000\n"
     ]
    }
   ],
   "source": [
    "#bank account details\n",
    "class bank_account:\n",
    "    def __init__(self,account_holder, balance=0):\n",
    "        self.account_holder=account_holder\n",
    "        self.balance=balance\n",
    "    def deposit(self, amount):\n",
    "        self.balance+=amount\n",
    "        print(f\"Deposit: {amount}, New Balance: {self.balance}\")\n",
    "    def withdraw(self, amount):\n",
    "        if self.balance>=amount:\n",
    "            self.balance-=amount\n",
    "            print(f\"Withdraw: {amount}, New Balance: {self.balance}\")\n",
    "        else:\n",
    "            print(\"Insufficient Balance\")\n",
    "account=bank_account(\"Ashifa\", 1000)\n",
    "account.deposit (2000)\n",
    "account.withdraw(1000)\n",
    "account.deposit (4000)\n",
    "account.withdraw (2000)"
   ]
  },
  {
   "cell_type": "code",
   "execution_count": 14,
   "id": "048cacb0-77ef-472d-845a-9b100e6ee6f2",
   "metadata": {},
   "outputs": [
    {
     "name": "stdin",
     "output_type": "stream",
     "text": [
      "Enter the name: alia\n"
     ]
    },
    {
     "name": "stdout",
     "output_type": "stream",
     "text": [
      "Account_holder: alia\n"
     ]
    },
    {
     "name": "stdin",
     "output_type": "stream",
     "text": [
      "Enter the amount to deposit: 800\n"
     ]
    },
    {
     "name": "stdout",
     "output_type": "stream",
     "text": [
      "Deposit: 800, New Balance: 2800\n"
     ]
    },
    {
     "name": "stdin",
     "output_type": "stream",
     "text": [
      "Enter the amount to withdraw: 400\n"
     ]
    },
    {
     "name": "stdout",
     "output_type": "stream",
     "text": [
      "Withdraw: 400, New Balance: 2400\n"
     ]
    }
   ],
   "source": [
    "#bank account details with user input\n",
    "class bank_account:\n",
    "    def __init__(self, account_holder, balance=0):\n",
    "        self.account_holder=account_holder\n",
    "        self.balance=balance\n",
    "    def deposit(self,amount):\n",
    "        self.balance+=amount\n",
    "        print(f\"Deposit: {amount}, New Balance: {self.balance}\")\n",
    "    def withdraw(self,amount):\n",
    "        if self.balance>=amount:\n",
    "            self.balance-=amount\n",
    "            print(f\"Withdraw: {amount}, New Balance: {self.balance}\")\n",
    "        else:\n",
    "            print(\"Insufficient Balance\")\n",
    "name=input(\"Enter the name:\")\n",
    "print(\"Account_holder:\", name)\n",
    "account=bank_account(name,2000)\n",
    "deposit=int(input(\"Enter the amount to deposit:\"))\n",
    "account.deposit(deposit)\n",
    "withdraw=int(input(\"Enter the amount to withdraw:\"))\n",
    "account.withdraw(withdraw)"
   ]
  },
  {
   "cell_type": "code",
   "execution_count": null,
   "id": "a03d9fac-2cf7-4a61-b90b-cc05dded3061",
   "metadata": {},
   "outputs": [],
   "source": []
  }
 ],
 "metadata": {
  "kernelspec": {
   "display_name": "Python 3 (ipykernel)",
   "language": "python",
   "name": "python3"
  },
  "language_info": {
   "codemirror_mode": {
    "name": "ipython",
    "version": 3
   },
   "file_extension": ".py",
   "mimetype": "text/x-python",
   "name": "python",
   "nbconvert_exporter": "python",
   "pygments_lexer": "ipython3",
   "version": "3.13.5"
  }
 },
 "nbformat": 4,
 "nbformat_minor": 5
}
