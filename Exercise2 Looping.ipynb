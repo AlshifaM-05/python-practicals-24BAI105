{
 "cells": [
  {
   "cell_type": "code",
   "execution_count": 3,
   "id": "aaa3d0a1-8aa7-43e8-a005-85fd0e8f0517",
   "metadata": {},
   "outputs": [
    {
     "name": "stdout",
     "output_type": "stream",
     "text": [
      "0\n",
      "1\n",
      "2\n",
      "3\n",
      "4\n",
      "5\n"
     ]
    }
   ],
   "source": [
    "#printing numbers from range 0 to 6 using for loop\n",
    "for i in range(0,6):\n",
    "    print(i)"
   ]
  },
  {
   "cell_type": "code",
   "execution_count": 4,
   "id": "6b0feac0-11c5-492d-8011-f1f0b50cfe20",
   "metadata": {},
   "outputs": [
    {
     "name": "stdout",
     "output_type": "stream",
     "text": [
      "0\n",
      "1\n",
      "2\n",
      "3\n",
      "4\n",
      "5\n"
     ]
    }
   ],
   "source": [
    "#printing numbers from range 0 to 6 using while loop\n",
    "i=0\n",
    "while i<6:\n",
    "    print(i)\n",
    "    i+=1"
   ]
  },
  {
   "cell_type": "code",
   "execution_count": 5,
   "id": "cb5957dc-3ec5-4d34-b6f6-87f512c42663",
   "metadata": {},
   "outputs": [
    {
     "name": "stdout",
     "output_type": "stream",
     "text": [
      "2 * 1 = 2\n",
      "2 * 2 = 4\n",
      "2 * 3 = 6\n",
      "2 * 4 = 8\n",
      "2 * 5 = 10\n",
      "2 * 6 = 12\n",
      "2 * 7 = 14\n",
      "2 * 8 = 16\n",
      "2 * 9 = 18\n",
      "2 * 10 = 20\n"
     ]
    }
   ],
   "source": [
    "#Multiplication table of 2 using a for loop\n",
    "for i in range(1,11):\n",
    "    print(\"2\",\"*\",i,\"=\",i*2)"
   ]
  },
  {
   "cell_type": "code",
   "execution_count": 8,
   "id": "49b2ebf1-141e-4a1a-8efe-d0ce707d549b",
   "metadata": {},
   "outputs": [
    {
     "name": "stdin",
     "output_type": "stream",
     "text": [
      "Enter a number: 8\n"
     ]
    },
    {
     "name": "stdout",
     "output_type": "stream",
     "text": [
      "Reverse of a number: 8\n"
     ]
    }
   ],
   "source": [
    "#Reverse of a number using while loop\n",
    "n=int(input(\"Enter a number:\"))\n",
    "s=0\n",
    "while n!=0:\n",
    "    r=n%10\n",
    "    s=s*10+r\n",
    "    n=n//10\n",
    "print(\"Reverse of a number:\",s)"
   ]
  },
  {
   "cell_type": "code",
   "execution_count": 9,
   "id": "bfb7f3b7-5dd4-429d-8ac6-fd0c134b9f74",
   "metadata": {},
   "outputs": [
    {
     "name": "stdout",
     "output_type": "stream",
     "text": [
      "2\n",
      "4\n",
      "6\n",
      "8\n",
      "10\n",
      "12\n",
      "14\n",
      "16\n",
      "18\n",
      "20\n"
     ]
    }
   ],
   "source": [
    "#Printing Even numbers from 1 to 20 using for loop\n",
    "for i in range(1,21):\n",
    "    if(i%2==0):\n",
    "        print(i)"
   ]
  },
  {
   "cell_type": "code",
   "execution_count": 10,
   "id": "98b61c85-2060-4470-b5c6-8213b377b901",
   "metadata": {},
   "outputs": [
    {
     "name": "stdin",
     "output_type": "stream",
     "text": [
      "Enter a number: 8\n"
     ]
    },
    {
     "name": "stdout",
     "output_type": "stream",
     "text": [
      "Factorial of a number: 40320\n"
     ]
    }
   ],
   "source": [
    "#Factorial of a number using while loop\n",
    "n=int(input(\"Enter a number:\"))\n",
    "a=1\n",
    "fact=1\n",
    "while a<=n:\n",
    "    fact*=a\n",
    "    a+=1\n",
    "print(\"Factorial of a number:\",fact)"
   ]
  },
  {
   "cell_type": "code",
   "execution_count": null,
   "id": "bc77fdb0-4c23-4cce-8c0c-89d5a87b0536",
   "metadata": {},
   "outputs": [],
   "source": []
  }
 ],
 "metadata": {
  "kernelspec": {
   "display_name": "Python 3 (ipykernel)",
   "language": "python",
   "name": "python3"
  },
  "language_info": {
   "codemirror_mode": {
    "name": "ipython",
    "version": 3
   },
   "file_extension": ".py",
   "mimetype": "text/x-python",
   "name": "python",
   "nbconvert_exporter": "python",
   "pygments_lexer": "ipython3",
   "version": "3.13.5"
  }
 },
 "nbformat": 4,
 "nbformat_minor": 5
}
