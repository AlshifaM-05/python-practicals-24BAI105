{
 "cells": [
  {
   "cell_type": "code",
   "execution_count": 1,
   "id": "8df8099b-3082-49b9-9a72-d0ca75c1f0fe",
   "metadata": {},
   "outputs": [
    {
     "name": "stdout",
     "output_type": "stream",
     "text": [
      "(4, 5, 6, 7, 8, 9)\n"
     ]
    }
   ],
   "source": [
    "#Creating a tuple\n",
    "a=(4,5,6,7,8,9)\n",
    "print(a)"
   ]
  },
  {
   "cell_type": "code",
   "execution_count": 2,
   "id": "19cad7e1-5e7e-41da-989b-92be1a626cd3",
   "metadata": {},
   "outputs": [
    {
     "name": "stdout",
     "output_type": "stream",
     "text": [
      "(4, 9, 6, 7)\n"
     ]
    }
   ],
   "source": [
    "#To change element in tuple\n",
    "a=(4,5,6,7)\n",
    "a=a[:1]+(9,)+a[2:]\n",
    "print(a)"
   ]
  },
  {
   "cell_type": "code",
   "execution_count": 3,
   "id": "ed90eed0-b843-4056-8716-90961e6f230f",
   "metadata": {},
   "outputs": [
    {
     "name": "stdout",
     "output_type": "stream",
     "text": [
      "8 7\n"
     ]
    }
   ],
   "source": [
    "#Swapping of two numbers\n",
    "x=7\n",
    "y=8\n",
    "x,y=y,x\n",
    "print(x,y)"
   ]
  },
  {
   "cell_type": "code",
   "execution_count": 4,
   "id": "50585647-3a5e-4aec-8c91-51755e48fb37",
   "metadata": {},
   "outputs": [
    {
     "name": "stdout",
     "output_type": "stream",
     "text": [
      "[('Ram', 20), ('Karthik', 18), ('Arjun', 19)]\n",
      "[('Karthik', 18), ('Arjun', 19), ('Ram', 20)]\n",
      "[('Arjun', 19), ('Karthik', 18), ('Ram', 20)]\n"
     ]
    }
   ],
   "source": [
    "#List of tuples\n",
    "student=[(\"Ram\",20),(\"Karthik\",18),(\"Arjun\",19)]\n",
    "print(student)\n",
    "sort=sorted(student,key=lambda x:x[1])\n",
    "print(sort)\n",
    "sort1=sorted(student,key=lambda x:x[0])\n",
    "print(sort1)"
   ]
  },
  {
   "cell_type": "code",
   "execution_count": 5,
   "id": "6b02e1e7-1816-4d4d-bba1-bc1d50416de3",
   "metadata": {},
   "outputs": [
    {
     "name": "stdout",
     "output_type": "stream",
     "text": [
      "(8, 7, 6, 4, 2)\n",
      "(2, 6, 8)\n",
      "(2, 4, 6, 7, 8)\n",
      "(2, 4, 6, 7, 8)\n",
      "(2, 6, 8)\n"
     ]
    }
   ],
   "source": [
    "#Tuple slicing\n",
    "a=(2,4,6,7,8)\n",
    "print(a[::-1])\n",
    "print(a[0::2])\n",
    "print(a[-5:])\n",
    "print(a[0:])\n",
    "print(a[::2])"
   ]
  },
  {
   "cell_type": "code",
   "execution_count": 6,
   "id": "19512573-281b-47d3-9825-81559046d1e4",
   "metadata": {},
   "outputs": [
    {
     "name": "stdout",
     "output_type": "stream",
     "text": [
      "3\n"
     ]
    }
   ],
   "source": [
    "#Count the no.of elements in the tuple\n",
    "t=(1,2,3,4,5,6,7,8,2,2)\n",
    "c=t.count(2)\n",
    "print(c)"
   ]
  },
  {
   "cell_type": "code",
   "execution_count": 7,
   "id": "2785773a-39b7-44a3-9685-6152377006e8",
   "metadata": {},
   "outputs": [
    {
     "name": "stdout",
     "output_type": "stream",
     "text": [
      "Football\n",
      "Cricket\n",
      "Volleyball\n",
      "Throwball\n",
      "Football\n",
      "Cricket\n",
      "Volleyball\n",
      "Throwball\n"
     ]
    }
   ],
   "source": [
    "#For loop in tuple\n",
    "sports=(\"Football\",\"Cricket\",\"Volleyball\",\"Throwball\")\n",
    "for i in sports:\n",
    "    print(i)\n",
    "for i in range(len(sports)):\n",
    "    print(sports[i])"
   ]
  },
  {
   "cell_type": "code",
   "execution_count": 8,
   "id": "6a36d753-ac4a-469f-bf25-beb8a3b221e4",
   "metadata": {},
   "outputs": [
    {
     "name": "stdout",
     "output_type": "stream",
     "text": [
      "109 Ashifa 18\n"
     ]
    }
   ],
   "source": [
    "#Tuple unpacking\n",
    "data=(109,\"Ashifa\",18)\n",
    "rollno,name,age=data\n",
    "print(rollno,name,age)"
   ]
  },
  {
   "cell_type": "code",
   "execution_count": 9,
   "id": "e25ad459-5985-4409-b79c-5dc7216961c4",
   "metadata": {},
   "outputs": [
    {
     "name": "stdout",
     "output_type": "stream",
     "text": [
      "[1, 2, 3] [4, 5, 6]\n",
      "[4, 5, 6] (1, 2, 3)\n"
     ]
    }
   ],
   "source": [
    "#List and Tuple Datatype transformation\n",
    "l=[1,2,3]\n",
    "t=[4,5,6]\n",
    "print(l,t)\n",
    "print(list(t),tuple(l))"
   ]
  },
  {
   "cell_type": "code",
   "execution_count": null,
   "id": "b29c25a9-0fab-45ab-81eb-0d755c4328b9",
   "metadata": {},
   "outputs": [],
   "source": []
  }
 ],
 "metadata": {
  "kernelspec": {
   "display_name": "Python 3 (ipykernel)",
   "language": "python",
   "name": "python3"
  },
  "language_info": {
   "codemirror_mode": {
    "name": "ipython",
    "version": 3
   },
   "file_extension": ".py",
   "mimetype": "text/x-python",
   "name": "python",
   "nbconvert_exporter": "python",
   "pygments_lexer": "ipython3",
   "version": "3.13.5"
  }
 },
 "nbformat": 4,
 "nbformat_minor": 5
}
