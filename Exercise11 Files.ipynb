{
 "cells": [
  {
   "cell_type": "code",
   "execution_count": 2,
   "id": "fe01e751-c222-44cf-a7df-b617943e242e",
   "metadata": {
    "scrolled": true
   },
   "outputs": [
    {
     "name": "stdout",
     "output_type": "stream",
     "text": [
      "Python is one of the most popular high-level, interpreted programming languages, known for its simplicity, readability, and versatility. It was created by Guido van Rossum and first released in 1991.\n"
     ]
    }
   ],
   "source": [
    "#Opening the existing file\n",
    "file=open(\"simple.txt\",\"r\")\n",
    "print(file.read())\n",
    "file.close()"
   ]
  },
  {
   "cell_type": "code",
   "execution_count": 3,
   "id": "70aa7122-202a-4522-a707-a834d9d222c4",
   "metadata": {},
   "outputs": [
    {
     "name": "stdout",
     "output_type": "stream",
     "text": [
      "File created and the content has written successfully\n"
     ]
    }
   ],
   "source": [
    "#create and write data to a file \n",
    "with open(\"sample.txt\", \"w\") as file:\n",
    "    file.write(\"Python is a general-purpose programming language used everywhere.\\n\")\n",
    "    file.write(\"From web apps to AI, automation to cybersecurity—making it one of the most powerful and in-demand skills today.\\n\")\n",
    "print(\"File created and the content has written successfully\")"
   ]
  },
  {
   "cell_type": "code",
   "execution_count": 4,
   "id": "5d54862a-01ce-43d6-8922-3b095e0555c5",
   "metadata": {},
   "outputs": [
    {
     "name": "stdout",
     "output_type": "stream",
     "text": [
      "File Content:\n",
      "\n",
      "Python is a general-purpose programming language used everywhere.\n",
      "From web apps to AI, automation to cybersecurity—making it one of the most powerful and in-demand skills today.\n",
      "\n"
     ]
    }
   ],
   "source": [
    "#read the data from the file \n",
    "with open(\"sample.txt\", \"r\") as file: \n",
    "    content=file.read() \n",
    "    print(\"File Content:\\n\") \n",
    "    print(content)"
   ]
  },
  {
   "cell_type": "code",
   "execution_count": 5,
   "id": "06b9d39c-64a1-42f3-9b63-a604317941d3",
   "metadata": {},
   "outputs": [
    {
     "name": "stdout",
     "output_type": "stream",
     "text": [
      "New content appended to the file\n"
     ]
    }
   ],
   "source": [
    "#append the data to the file\n",
    "with open(\"sample.txt\",\"a\") as file:\n",
    "    file.write(\"Comparing to other programming language, In python file handling is easy and simple.\\n\")\n",
    "    file.write(\"We can easily create, write, read and append a file.\")\n",
    "print(\"New content appended to the file\")"
   ]
  },
  {
   "cell_type": "code",
   "execution_count": 6,
   "id": "4a460421-c229-43ba-b08c-d559137efb4a",
   "metadata": {},
   "outputs": [
    {
     "name": "stdout",
     "output_type": "stream",
     "text": [
      "File Content:\n",
      "\n",
      "Python is a general-purpose programming language used everywhere.\n",
      "From web apps to AI, automation to cybersecurity—making it one of the most powerful and in-demand skills today.\n",
      "Comparing to other programming language, In python file handling is easy and simple.\n",
      "We can easily create, write, read and append a file.\n"
     ]
    }
   ],
   "source": [
    "#reading the file after appending\n",
    "with open(\"sample.txt\",\"r\") as file:\n",
    "    data=file.read()\n",
    "    print(\"File Content:\\n\") \n",
    "    print(data)"
   ]
  },
  {
   "cell_type": "code",
   "execution_count": null,
   "id": "e0b338bf-3583-4614-be85-f460a4b9629a",
   "metadata": {},
   "outputs": [],
   "source": []
  }
 ],
 "metadata": {
  "kernelspec": {
   "display_name": "Python 3 (ipykernel)",
   "language": "python",
   "name": "python3"
  },
  "language_info": {
   "codemirror_mode": {
    "name": "ipython",
    "version": 3
   },
   "file_extension": ".py",
   "mimetype": "text/x-python",
   "name": "python",
   "nbconvert_exporter": "python",
   "pygments_lexer": "ipython3",
   "version": "3.13.5"
  }
 },
 "nbformat": 4,
 "nbformat_minor": 5
}
