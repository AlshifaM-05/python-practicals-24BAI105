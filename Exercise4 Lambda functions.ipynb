{
 "cells": [
  {
   "cell_type": "code",
   "execution_count": 1,
   "id": "6a5c02b6-8e43-429d-93c0-da7d3ba2aed9",
   "metadata": {},
   "outputs": [
    {
     "name": "stdout",
     "output_type": "stream",
     "text": [
      "9\n"
     ]
    }
   ],
   "source": [
    "#Addition of two numbers\n",
    "add=lambda x,y:x+y\n",
    "print(add(4,5))"
   ]
  },
  {
   "cell_type": "code",
   "execution_count": 2,
   "id": "8b20af88-6bf1-46af-b344-d1492345e4b3",
   "metadata": {},
   "outputs": [
    {
     "name": "stdout",
     "output_type": "stream",
     "text": [
      "25\n"
     ]
    }
   ],
   "source": [
    "#Square of a number\n",
    "square=lambda x:x*x\n",
    "print(square(5))"
   ]
  },
  {
   "cell_type": "code",
   "execution_count": 3,
   "id": "aa56c6e5-5fce-40e0-ab5f-1c89d693b2ca",
   "metadata": {},
   "outputs": [
    {
     "name": "stdout",
     "output_type": "stream",
     "text": [
      "[16, 36, 64, 81, 4]\n"
     ]
    }
   ],
   "source": [
    "#Using lambda with map()\n",
    "n=[4,6,8,9,2]\n",
    "square=list(map(lambda n:n*n,n))\n",
    "print(square)"
   ]
  },
  {
   "cell_type": "code",
   "execution_count": 4,
   "id": "5e65821e-8e7b-4a99-8fdc-921a641e1cf1",
   "metadata": {},
   "outputs": [
    {
     "name": "stdout",
     "output_type": "stream",
     "text": [
      "[4, 6, 8, 2]\n"
     ]
    }
   ],
   "source": [
    "#Using lambda with filter()\n",
    "n=[4,6,1,3,8,9,2]\n",
    "e=list(filter(lambda n:n%2==0,n))\n",
    "print(e)"
   ]
  },
  {
   "cell_type": "code",
   "execution_count": 5,
   "id": "c9543e59-bbed-4fe2-aaa7-642daecf9a2a",
   "metadata": {},
   "outputs": [
    {
     "name": "stdout",
     "output_type": "stream",
     "text": [
      "[True, True, False, False, True, False, True]\n"
     ]
    }
   ],
   "source": [
    "n=[4,6,1,3,8,9,2]\n",
    "e=list(map(lambda n:n%2==0,n))\n",
    "print(e)"
   ]
  }
 ],
 "metadata": {
  "kernelspec": {
   "display_name": "Python 3 (ipykernel)",
   "language": "python",
   "name": "python3"
  },
  "language_info": {
   "codemirror_mode": {
    "name": "ipython",
    "version": 3
   },
   "file_extension": ".py",
   "mimetype": "text/x-python",
   "name": "python",
   "nbconvert_exporter": "python",
   "pygments_lexer": "ipython3",
   "version": "3.13.5"
  }
 },
 "nbformat": 4,
 "nbformat_minor": 5
}
