{
 "cells": [
  {
   "cell_type": "code",
   "execution_count": 1,
   "id": "468a6a37-8a53-4367-9fea-16cde6d9b569",
   "metadata": {},
   "outputs": [
    {
     "name": "stdout",
     "output_type": "stream",
     "text": [
      "jooli\n",
      "jhooli\n",
      "PHP is a server scripting language, and a powerful tool for making dynamic and interactive Web pages\n",
      "PHP is a widely-used, free, and efficient alternative to competitors such as Microsoft's ASP\n"
     ]
    }
   ],
   "source": [
    "#Basic syntax of string operations in python\n",
    "a=\"jooli\"\n",
    "b=\"jhooli\"\n",
    "c=\"\"\"PHP is a server scripting language, and a powerful tool for making dynamic and interactive Web pages\"\"\"\n",
    "d='''PHP is a widely-used, free, and efficient alternative to competitors such as Microsoft's ASP'''\n",
    "print(a)\n",
    "print(b)\n",
    "print(c)\n",
    "print(d)"
   ]
  },
  {
   "cell_type": "code",
   "execution_count": 2,
   "id": "59f68dac-3aef-43be-8a39-55870f7f5516",
   "metadata": {},
   "outputs": [
    {
     "name": "stdout",
     "output_type": "stream",
     "text": [
      "y\n",
      "yt\n",
      "yth\n",
      "ytho\n",
      "ython\n",
      "ython \n",
      "ython p\n"
     ]
    }
   ],
   "source": [
    "#String slicing01\n",
    "x=\"Python programming\"\n",
    "print(x[1:2])\n",
    "print(x[1:3])\n",
    "print(x[1:4])\n",
    "print(x[1:5])\n",
    "print(x[1:6])\n",
    "print(x[1:7])\n",
    "print(x[1:8])"
   ]
  },
  {
   "cell_type": "code",
   "execution_count": 3,
   "id": "d749b59f-c401-4d36-b168-5e8706ae0eba",
   "metadata": {},
   "outputs": [
    {
     "name": "stdout",
     "output_type": "stream",
     "text": [
      "ython programming\n",
      "Python programming\n",
      "Python\n",
      "g\n",
      "g\n"
     ]
    }
   ],
   "source": [
    "#String slicing02\n",
    "x=\"Python programming\"\n",
    "print(x[1:])\n",
    "print(x[0:])\n",
    "print(x[:6])\n",
    "print(x[-1])\n",
    "print(x[-1:])"
   ]
  },
  {
   "cell_type": "code",
   "execution_count": 4,
   "id": "197b5118-9119-4f40-bf06-55b2bc26c71f",
   "metadata": {},
   "outputs": [
    {
     "name": "stdout",
     "output_type": "stream",
     "text": [
      "amming\n",
      "agr o\n"
     ]
    }
   ],
   "source": [
    "#String slicing03\n",
    "x=\"Python programming\"\n",
    "print(x[-6:])\n",
    "print(x[-6:2:-2])"
   ]
  },
  {
   "cell_type": "code",
   "execution_count": 5,
   "id": "35886239-1d98-47d0-a2af-0f3755264781",
   "metadata": {},
   "outputs": [
    {
     "name": "stdout",
     "output_type": "stream",
     "text": [
      "agr otP\n",
      "tg\n"
     ]
    }
   ],
   "source": [
    "#String slicing04\n",
    "x=\"Python programming\"\n",
    "print(x[-6::-2])\n",
    "print(x[2::8])"
   ]
  },
  {
   "cell_type": "code",
   "execution_count": 6,
   "id": "f609fbc5-b48d-4985-bfee-767e025e61bf",
   "metadata": {},
   "outputs": [
    {
     "name": "stdout",
     "output_type": "stream",
     "text": [
      "Kih\n",
      "Kih\n"
     ]
    }
   ],
   "source": [
    "#String slicing05\n",
    "y=\"Krishna\"\n",
    "print(y[-7:-2:2])\n",
    "print(y[0:5:2])"
   ]
  },
  {
   "cell_type": "code",
   "execution_count": 7,
   "id": "63d078a7-b78a-45e1-9f00-bc9bae5d8544",
   "metadata": {},
   "outputs": [
    {
     "name": "stdout",
     "output_type": "stream",
     "text": [
      "Krishna\n",
      "Krishna\n",
      "Krishna\n",
      "Krishna\n",
      "Krishna\n"
     ]
    }
   ],
   "source": [
    "#String slicing06\n",
    "y=\"Krishna\"\n",
    "print(y[::1])\n",
    "print(y[0:])\n",
    "print(y[::])\n",
    "print(y[:])\n",
    "print(y[-7:])"
   ]
  },
  {
   "cell_type": "code",
   "execution_count": 8,
   "id": "8a5c7f7c-222f-4094-8bd9-b1b355ccc96f",
   "metadata": {},
   "outputs": [
    {
     "name": "stdout",
     "output_type": "stream",
     "text": [
      "r\n",
      "Krish\n",
      "Kiha\n",
      "anhsirK\n",
      "a\n",
      "a\n"
     ]
    }
   ],
   "source": [
    "#String slicing07\n",
    "y=\"Krishna\"\n",
    "print(y[1])\n",
    "print(y[0:5])\n",
    "print(y[::2])\n",
    "print(y[::-1])\n",
    "print(y[::-7])\n",
    "print(y[-1:])"
   ]
  },
  {
   "cell_type": "code",
   "execution_count": 9,
   "id": "8b201849-d27b-44c6-b058-76fd8cb92d36",
   "metadata": {},
   "outputs": [
    {
     "name": "stdout",
     "output_type": "stream",
     "text": [
      "rishn\n",
      "rishn\n"
     ]
    }
   ],
   "source": [
    "#String slicing08\n",
    "y=\"Krishna\"\n",
    "print(y[1:6])\n",
    "print(y[-6:-1])"
   ]
  },
  {
   "cell_type": "code",
   "execution_count": 10,
   "id": "a1b87925-2c9c-4fe1-b1eb-9d0f53d1d85d",
   "metadata": {},
   "outputs": [
    {
     "name": "stdout",
     "output_type": "stream",
     "text": [
      "hna\n",
      "hna\n",
      "Kris\n"
     ]
    }
   ],
   "source": [
    "#String slicing09\n",
    "y=\"Krishna\"\n",
    "print(y[4:])\n",
    "print(y[-3:])\n",
    "print(y[:-3])"
   ]
  },
  {
   "cell_type": "code",
   "execution_count": 11,
   "id": "aef0617d-8341-4603-b550-9ad74021d077",
   "metadata": {},
   "outputs": [
    {
     "name": "stdout",
     "output_type": "stream",
     "text": [
      "Kiha\n",
      "Ksa\n"
     ]
    }
   ],
   "source": [
    "#String slicing10\n",
    "y=\"Krishna\"\n",
    "print(y[::2])\n",
    "print(y[::3])"
   ]
  },
  {
   "cell_type": "code",
   "execution_count": 12,
   "id": "ffacee06-dcb1-4d6f-843b-649eb007b7de",
   "metadata": {},
   "outputs": [
    {
     "name": "stdout",
     "output_type": "stream",
     "text": [
      "P\n",
      "y\n",
      "t\n",
      "h\n",
      "o\n",
      "n\n"
     ]
    }
   ],
   "source": [
    "#looping in string\n",
    "for i in \"Python\":\n",
    "    print(i)"
   ]
  },
  {
   "cell_type": "code",
   "execution_count": 13,
   "id": "b750c4d1-9fd1-4935-b5bf-5c1483f5ada9",
   "metadata": {},
   "outputs": [
    {
     "name": "stdout",
     "output_type": "stream",
     "text": [
      "7\n"
     ]
    }
   ],
   "source": [
    "#String method\n",
    "z=\"Krishna\"\n",
    "print(len(z))"
   ]
  },
  {
   "cell_type": "code",
   "execution_count": 14,
   "id": "c999571e-fdb7-46f8-8a5e-c89f6cbf193b",
   "metadata": {},
   "outputs": [
    {
     "name": "stdin",
     "output_type": "stream",
     "text": [
      "Enter the string: google\n"
     ]
    },
    {
     "name": "stdout",
     "output_type": "stream",
     "text": [
      "3\n"
     ]
    }
   ],
   "source": [
    "#To check the vowels\n",
    "st1=input(\"Enter the string:\")\n",
    "a=0\n",
    "for i in st1:\n",
    "    if i in \"aeiouAEIOU\":\n",
    "        a=a+1\n",
    "print(a)"
   ]
  },
  {
   "cell_type": "code",
   "execution_count": 15,
   "id": "70a48235-00da-4d47-942e-29e3b8081753",
   "metadata": {},
   "outputs": [
    {
     "name": "stdout",
     "output_type": "stream",
     "text": [
      "ARTIFICIAL INTELLIGENCE AND MACHINE LEARNING\n",
      "artificial intelligence and machine learning\n",
      "28\n",
      "Artificial Foundation and Machine Learning\n"
     ]
    }
   ],
   "source": [
    "#String methods\n",
    "s=\"Artificial Intelligence and Machine Learning\"\n",
    "print(s.upper())\n",
    "print(s.lower())\n",
    "print(s.find(\"Machine\"))\n",
    "print(s.replace(\"Intelligence\",\"Foundation\"))"
   ]
  },
  {
   "cell_type": "code",
   "execution_count": 16,
   "id": "31fa363a-6e46-4d81-9342-044c88a983d4",
   "metadata": {},
   "outputs": [
    {
     "name": "stdout",
     "output_type": "stream",
     "text": [
      "HelloStudents\n",
      "HelloHello\n"
     ]
    }
   ],
   "source": [
    "#String concatenation and Repetition\n",
    "a=\"Hello\"\n",
    "b=\"Students\"\n",
    "print(a+b)\n",
    "print(a*2)"
   ]
  },
  {
   "cell_type": "code",
   "execution_count": 17,
   "id": "4b22c845-4dbc-494f-a748-50e667136346",
   "metadata": {},
   "outputs": [
    {
     "name": "stdout",
     "output_type": "stream",
     "text": [
      "0\n",
      "2\n",
      "4\n"
     ]
    }
   ],
   "source": [
    "#Loop with step value using range()\n",
    "for i in range(0,5,2):\n",
    "    print(i)"
   ]
  },
  {
   "cell_type": "code",
   "execution_count": 19,
   "id": "33932cdd-6312-4bc3-b27a-0b11640f87f0",
   "metadata": {},
   "outputs": [
    {
     "name": "stdin",
     "output_type": "stream",
     "text": [
      "Enter the sentence: welcome 2 the dayB4 Program 87546\n"
     ]
    },
    {
     "name": "stdout",
     "output_type": "stream",
     "text": [
      "No of upper cases: 2\n",
      "No of lower cases: 19\n",
      "No of digits: 7\n"
     ]
    }
   ],
   "source": [
    "#Count no.of uppercase,lowercase and digits in a sentence\n",
    "s=input(\"Enter the sentence:\")\n",
    "u=0\n",
    "l=0\n",
    "d=0\n",
    "for i in s:\n",
    "    if i.isupper():\n",
    "        u=u+1\n",
    "    elif i.islower():\n",
    "        l=l+1\n",
    "    elif i.isdigit():\n",
    "        d=d+1\n",
    "print(\"No of upper cases:\",u)\n",
    "print(\"No of lower cases:\",l)\n",
    "print(\"No of digits:\",d)"
   ]
  },
  {
   "cell_type": "code",
   "execution_count": null,
   "id": "d0f9b347-fdd2-4f85-9d20-7ae95b66c2df",
   "metadata": {},
   "outputs": [],
   "source": []
  }
 ],
 "metadata": {
  "kernelspec": {
   "display_name": "Python 3 (ipykernel)",
   "language": "python",
   "name": "python3"
  },
  "language_info": {
   "codemirror_mode": {
    "name": "ipython",
    "version": 3
   },
   "file_extension": ".py",
   "mimetype": "text/x-python",
   "name": "python",
   "nbconvert_exporter": "python",
   "pygments_lexer": "ipython3",
   "version": "3.13.5"
  }
 },
 "nbformat": 4,
 "nbformat_minor": 5
}
