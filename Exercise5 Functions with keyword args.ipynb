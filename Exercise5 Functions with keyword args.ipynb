{
 "cells": [
  {
   "cell_type": "code",
   "execution_count": 1,
   "id": "9533a4d1-b3b3-4d23-9e14-720c0f8dacbd",
   "metadata": {},
   "outputs": [
    {
     "name": "stdout",
     "output_type": "stream",
     "text": [
      "-----------Student Report-----------\n",
      "Name:Alice\n",
      "Subject:science\n",
      "Grade:7th\n",
      "Marks:78\n",
      "Status:Pass\n",
      "-------------------------------------\n",
      "\n",
      "-----------Student Report-----------\n",
      "Name:Bob\n",
      "Subject:Maths\n",
      "Grade:6th\n",
      "Marks:45\n",
      "Status:Fail\n",
      "-------------------------------------\n",
      "\n",
      "-----------Student Report-----------\n",
      "Name:Charlie\n",
      "Subject:Maths\n",
      "Grade:8th\n",
      "Marks:0\n",
      "Status:Fail\n",
      "-------------------------------------\n",
      "\n"
     ]
    }
   ],
   "source": [
    "def student_report(name,grade,subject=\"Maths\",marks=0):\n",
    "    print(\"-----------Student Report-----------\")\n",
    "    print(f\"Name:{name}\")\n",
    "    print(f\"Subject:{subject}\")\n",
    "    print(f\"Grade:{grade}\")\n",
    "    print(f\"Marks:{marks}\")\n",
    "    if marks>=50:\n",
    "        print(\"Status:Pass\")\n",
    "    else:\n",
    "        print(\"Status:Fail\")\n",
    "    print(\"-------------------------------------\\n\")\n",
    "student_report(name=\"Alice\",grade=\"7th\",subject=\"science\",marks=78)\n",
    "student_report(grade=\"6th\",name=\"Bob\",marks=45)\n",
    "student_report(name=\"Charlie\",grade=\"8th\")"
   ]
  },
  {
   "cell_type": "code",
   "execution_count": 2,
   "id": "b41dc194-7557-4900-9ca9-184bb33a3203",
   "metadata": {},
   "outputs": [
    {
     "name": "stdout",
     "output_type": "stream",
     "text": [
      "Amount:$1000\n",
      "Tax:$50.0\n",
      "Discount:$50\n",
      "Total Bill:$1000.0\n",
      "\n",
      "Amount:$500\n",
      "Tax:$50.0\n",
      "Discount:$0\n",
      "Total Bill:$550.0\n",
      "\n",
      "Amount:$1500\n",
      "Tax:$75.0\n",
      "Discount:$0\n",
      "Total Bill:$1575.0\n",
      "\n"
     ]
    }
   ],
   "source": [
    "#Bill Calculation with optional discount\n",
    "def calculate_bill(amount,tax_rate=0.05,discount=0):\n",
    "    tax=amount*tax_rate\n",
    "    total=amount+tax-discount\n",
    "    print(f\"Amount:${amount}\")\n",
    "    print(f\"Tax:${tax}\")\n",
    "    print(f\"Discount:${discount}\")\n",
    "    print(f\"Total Bill:${total}\\n\")\n",
    "calculate_bill(amount=1000,discount=50)\n",
    "calculate_bill(tax_rate=0.1,amount=500)\n",
    "calculate_bill(amount=1500)"
   ]
  },
  {
   "cell_type": "code",
   "execution_count": 3,
   "id": "88a374b8-b743-47c7-9655-16aa14515b3d",
   "metadata": {},
   "outputs": [
    {
     "name": "stdout",
     "output_type": "stream",
     "text": [
      "BMI(metric)=22.86\n",
      "BMI(imperial)=23.41\n"
     ]
    }
   ],
   "source": [
    "#BMI Calculator\n",
    "def bmi(weight,height,unit=\"metric\"):\n",
    "    if unit==\"metric\":\n",
    "        bmi_value=weight/(height**2)\n",
    "    else:\n",
    "        bmi_value=703*weight/(height**2)\n",
    "    print(f\"BMI({unit})={bmi_value:.2f}\")\n",
    "bmi(weight=70,height=1.75)\n",
    "bmi(weight=154,height=68,unit=\"imperial\")"
   ]
  },
  {
   "cell_type": "code",
   "execution_count": 5,
   "id": "64c0270a-d9fe-466b-bdec-518e94405110",
   "metadata": {},
   "outputs": [
    {
     "name": "stdout",
     "output_type": "stream",
     "text": [
      "Username: john_doe\n",
      "Password: 1234\n",
      "Admin: True\n",
      "Username: jane_doe\n",
      "Password: 5678\n",
      "Admin: False\n"
     ]
    }
   ],
   "source": [
    "def create_account(username, password, is_admin=False):\n",
    "    print(f\"Username: {username}\")\n",
    "    print(f\"Password: {password}\")\n",
    "    print(f\"Admin: {is_admin}\")\n",
    "# Call with keyword argument for optional param\n",
    "create_account(username=\"john_doe\", password=\"1234\", is_admin=True)\n",
    "create_account(username=\"jane_doe\", password=\"5678\")  # is_admin defaults to False"
   ]
  },
  {
   "cell_type": "code",
   "execution_count": null,
   "id": "2c5d70d1-e1e2-4fc3-b9bb-eb1bfa408d07",
   "metadata": {},
   "outputs": [],
   "source": []
  }
 ],
 "metadata": {
  "kernelspec": {
   "display_name": "Python 3 (ipykernel)",
   "language": "python",
   "name": "python3"
  },
  "language_info": {
   "codemirror_mode": {
    "name": "ipython",
    "version": 3
   },
   "file_extension": ".py",
   "mimetype": "text/x-python",
   "name": "python",
   "nbconvert_exporter": "python",
   "pygments_lexer": "ipython3",
   "version": "3.13.5"
  }
 },
 "nbformat": 4,
 "nbformat_minor": 5
}
