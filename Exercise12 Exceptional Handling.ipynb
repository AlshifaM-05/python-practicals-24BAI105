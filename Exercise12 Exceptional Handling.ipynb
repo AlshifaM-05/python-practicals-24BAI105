{
 "cells": [
  {
   "cell_type": "code",
   "execution_count": 1,
   "id": "ddca63eb-e4d6-4982-9271-b025a493a29c",
   "metadata": {},
   "outputs": [
    {
     "name": "stdin",
     "output_type": "stream",
     "text": [
      "Enter the key: hg\n"
     ]
    },
    {
     "name": "stdout",
     "output_type": "stream",
     "text": [
      "The given key value is not present.\n"
     ]
    }
   ],
   "source": [
    "#Key error\n",
    "try:\n",
    "    d={\"name\": \"ashifa\", \"age\":18}\n",
    "    e=input(\"Enter the key:\")\n",
    "    print(d[e])\n",
    "except KeyError:\n",
    "    print(\"The given key value is not present.\")"
   ]
  },
  {
   "cell_type": "code",
   "execution_count": 4,
   "id": "bfaf3965-4205-4d57-bb88-ddd1b7197a26",
   "metadata": {},
   "outputs": [
    {
     "name": "stdin",
     "output_type": "stream",
     "text": [
      "Enter the number: 8.8\n"
     ]
    },
    {
     "name": "stdout",
     "output_type": "stream",
     "text": [
      "Invalid value\n"
     ]
    }
   ],
   "source": [
    "#value error\n",
    "try:\n",
    "    a=int(input(\"Enter the number:\"))\n",
    "    print(a)\n",
    "except ValueError:\n",
    "    print(\"Invalid value\")"
   ]
  },
  {
   "cell_type": "code",
   "execution_count": 7,
   "id": "da851220-46d4-4713-a89d-bdad31951631",
   "metadata": {},
   "outputs": [
    {
     "name": "stdin",
     "output_type": "stream",
     "text": [
      "Enter the index value: 6\n"
     ]
    },
    {
     "name": "stdout",
     "output_type": "stream",
     "text": [
      "The given value is out of the index\n"
     ]
    }
   ],
   "source": [
    "#Index error\n",
    "try:\n",
    "    a=[2,3,4,5]\n",
    "    b=int(input(\"Enter the index value:\"))\n",
    "    print(a[b])\n",
    "except IndexError:\n",
    "    print(\"The given value is out of the index\")"
   ]
  },
  {
   "cell_type": "code",
   "execution_count": 8,
   "id": "2d8c6025-2c59-4160-8c43-c48de1ad4769",
   "metadata": {},
   "outputs": [
    {
     "name": "stdin",
     "output_type": "stream",
     "text": [
      "Enter the age: -8\n"
     ]
    },
    {
     "name": "stdout",
     "output_type": "stream",
     "text": [
      "Error: Age cannot be negative\n"
     ]
    }
   ],
   "source": [
    "#Age Validation\n",
    "def checkage(age):\n",
    "    if age<0:\n",
    "        raise ValueError(\"Age cannot be negative\")\n",
    "    else:\n",
    "        print(\"Age is valid\")\n",
    "try:\n",
    "    age=int(input(\"Enter the age:\"))\n",
    "    checkage(age)\n",
    "except ValueError as e:\n",
    "    print(\"Error:\",e)"
   ]
  },
  {
   "cell_type": "code",
   "execution_count": 9,
   "id": "a7697998-ee20-4391-bc47-f16ae7f4ae31",
   "metadata": {},
   "outputs": [
    {
     "name": "stdin",
     "output_type": "stream",
     "text": [
      "Enter the file name: you\n"
     ]
    },
    {
     "name": "stdout",
     "output_type": "stream",
     "text": [
      "The text file is not found\n",
      "All blocks are executed\n"
     ]
    }
   ],
   "source": [
    "#File not found exception\n",
    "try:\n",
    "    a=input(\"Enter the file name:\")\n",
    "    with open(a, \"r\") as file:\n",
    "        data=file.read() \n",
    "        print(\"File Content: \\n\") \n",
    "        print(data)\n",
    "except FileNotFoundError:\n",
    "    print(\"The text file is not found\")\n",
    "except Exception as e:\n",
    "    print(f\"Common exception {e}\")\n",
    "finally:\n",
    "    print(\"All blocks are executed\")"
   ]
  },
  {
   "cell_type": "code",
   "execution_count": 10,
   "id": "a627f38c-e50c-4c32-af4c-c919db0c4ce1",
   "metadata": {},
   "outputs": [
    {
     "name": "stdin",
     "output_type": "stream",
     "text": [
      "Enter the number:  10\n"
     ]
    },
    {
     "name": "stdout",
     "output_type": "stream",
     "text": [
      "The number cannot divided by zero\n",
      "All blocks are executed\n"
     ]
    }
   ],
   "source": [
    "#Zero division error\n",
    "try:\n",
    "    a=int(input(\"Enter the number: \"))\n",
    "    b=a/0\n",
    "    print(b)\n",
    "except ZeroDivisionError:\n",
    "    print(\"The number cannot divided by zero\")\n",
    "except ValueError:\n",
    "    print(\"The given input is not valid\")\n",
    "except Exception as e:\n",
    "    print(f\"Common exception {e}\")\n",
    "finally:\n",
    "    print(\"All blocks are executed\")"
   ]
  },
  {
   "cell_type": "code",
   "execution_count": null,
   "id": "47ed81ae-a3df-40e2-be07-ee3b044ac53c",
   "metadata": {},
   "outputs": [],
   "source": []
  }
 ],
 "metadata": {
  "kernelspec": {
   "display_name": "Python 3 (ipykernel)",
   "language": "python",
   "name": "python3"
  },
  "language_info": {
   "codemirror_mode": {
    "name": "ipython",
    "version": 3
   },
   "file_extension": ".py",
   "mimetype": "text/x-python",
   "name": "python",
   "nbconvert_exporter": "python",
   "pygments_lexer": "ipython3",
   "version": "3.13.5"
  }
 },
 "nbformat": 4,
 "nbformat_minor": 5
}
