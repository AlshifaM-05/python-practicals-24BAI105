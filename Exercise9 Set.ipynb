{
 "cells": [
  {
   "cell_type": "code",
   "execution_count": 1,
   "id": "71dda69c-9614-466d-bc2f-dfa63fc14b27",
   "metadata": {},
   "outputs": [
    {
     "name": "stdout",
     "output_type": "stream",
     "text": [
      "{'Green', 'Red', 'Yellow', 'Black'}\n"
     ]
    }
   ],
   "source": [
    "#Creating a set\n",
    "color={\"Red\", \"Green\", \"Yellow\", \"Black\"}\n",
    "print(color)"
   ]
  },
  {
   "cell_type": "code",
   "execution_count": 2,
   "id": "0b3a82db-e6a5-46b5-9a25-e4cd69188009",
   "metadata": {},
   "outputs": [
    {
     "name": "stdout",
     "output_type": "stream",
     "text": [
      "{1, 2, 3}\n"
     ]
    }
   ],
   "source": [
    "#Creating a set using set function\n",
    "n=set((2,1,3,2,1))\n",
    "print(n)"
   ]
  },
  {
   "cell_type": "code",
   "execution_count": 3,
   "id": "d25fbace-28b5-4adc-a483-8884d738b63f",
   "metadata": {},
   "outputs": [
    {
     "name": "stdout",
     "output_type": "stream",
     "text": [
      "{1, 2, 3, 4, 5}\n",
      "{1, 2, 3, 4, 5}\n",
      "{3}\n",
      "{1, 2}\n",
      "{4, 5}\n",
      "{1, 2, 4, 5}\n",
      "{1, 2, 4, 5}\n"
     ]
    }
   ],
   "source": [
    "#Basic set operation\n",
    "a={1,2,3}\n",
    "b={3,4,5}\n",
    "print(a.union(b))\n",
    "print(b.union(a))\n",
    "print(a.intersection(b))\n",
    "print(a.difference(b))\n",
    "print(b.difference(a))\n",
    "print(a.symmetric_difference(b))\n",
    "print(b.symmetric_difference(a))"
   ]
  },
  {
   "cell_type": "code",
   "execution_count": 4,
   "id": "21d9a936-0f92-4880-8202-2222f153e1c9",
   "metadata": {},
   "outputs": [
    {
     "name": "stdout",
     "output_type": "stream",
     "text": [
      "{'Linux', 'Windows', 'MacOS', 'Unix'}\n"
     ]
    }
   ],
   "source": [
    "#Adding a new element in a set\n",
    "os={\"Windows\", \"Linux\",\"MacOS\"}\n",
    "os.add(\"Unix\")\n",
    "print(os)"
   ]
  },
  {
   "cell_type": "code",
   "execution_count": 5,
   "id": "0d0f7f59-631e-4794-aa0a-9f7d6b5daa81",
   "metadata": {},
   "outputs": [
    {
     "name": "stdout",
     "output_type": "stream",
     "text": [
      "Students who are chosen both subjects: {'Jasra', 'Shruthi'}\n",
      "Students who are chosen either maths or cs: {'Alshifa', 'Anagha', 'Ashifa', 'Threya', 'Monica', 'Alfhiya'}\n",
      "Students who are chosen maths alone: {'Anagha', 'Monica', 'Ashifa'}\n",
      "Students who are chosen CS alone: {'Alshifa', 'Threya', 'Alfhiya'}\n",
      "{'Anagha', 'Ashifa', 'Shruthi', 'Jasra', 'Monica', 'Aslina'}\n"
     ]
    }
   ],
   "source": [
    "#Subject chosen\n",
    "maths={\"Ashifa\",\"Shruthi\",\"Jasra\",\"Monica\",\"Anagha\"}\n",
    "cs={\"Threya\",\"Shruthi\",\"Alfhiya\",\"Alshifa\",\"Jasra\"}\n",
    "print(\"Students who are chosen both subjects:\",maths.intersection(cs))\n",
    "print(\"Students who are chosen either maths or cs:\",maths.symmetric_difference(cs))\n",
    "print(\"Students who are chosen maths alone:\",maths.difference(cs))\n",
    "print(\"Students who are chosen CS alone:\",cs.difference(maths))\n",
    "maths.add(\"Aslina\")\n",
    "print(maths)"
   ]
  },
  {
   "cell_type": "code",
   "execution_count": 6,
   "id": "bef8f680-8950-45b7-9d7c-d08d5692c478",
   "metadata": {},
   "outputs": [
    {
     "name": "stdout",
     "output_type": "stream",
     "text": [
      "{'milk', 'milky', 'fuse', 'dairy', 'bar', 'cream', 'chocki'}\n"
     ]
    }
   ],
   "source": [
    "#Updating a set\n",
    "maths={\"dairy\", \"chocki\", \"milky\", \"bar\", \"fuse\"}\n",
    "m={\"milk\", \"cream\"}\n",
    "maths.update(m)\n",
    "print(maths)"
   ]
  },
  {
   "cell_type": "code",
   "execution_count": 7,
   "id": "4aa232f9-0939-4a22-a8a0-b614d9cb848d",
   "metadata": {},
   "outputs": [
    {
     "name": "stdout",
     "output_type": "stream",
     "text": [
      "{'milk', 'milky', 'dairy', 'fuse', 'bar', 'kinder', 'joy', 'toffee'}\n"
     ]
    }
   ],
   "source": [
    "#Alternative method for Updating a set \n",
    "maths={\"kinder\", \"joy\", \"dairy\", \"milk\", \"toffee\"}\n",
    "maths.update({\"milky\",\"fuse\",\"bar\"})\n",
    "print(maths)"
   ]
  },
  {
   "cell_type": "code",
   "execution_count": 8,
   "id": "508b5ed8-01fd-4b2a-aeef-f116de7ddcd2",
   "metadata": {},
   "outputs": [
    {
     "name": "stdout",
     "output_type": "stream",
     "text": [
      "{'jim', 'choco', 'jam', 'toffee'}\n"
     ]
    }
   ],
   "source": [
    "#Discard function\n",
    "maths={\"fuse\", \"toffee\", \"jim\", \"jam\", \"choco\"}\n",
    "maths.discard(\"fuse\")\n",
    "print(maths)"
   ]
  },
  {
   "cell_type": "code",
   "execution_count": 9,
   "id": "b56c01f9-6195-4028-884d-d266d86c1bee",
   "metadata": {},
   "outputs": [
    {
     "name": "stdout",
     "output_type": "stream",
     "text": [
      "{'choco', 'fuse', 'jam', 'Jim'}\n"
     ]
    }
   ],
   "source": [
    "#Remove function\n",
    "maths={\"fuse\", \"toffee\", \"Jim\", \"jam\", \"choco\"}\n",
    "maths.remove(\"toffee\")\n",
    "print(maths)"
   ]
  },
  {
   "cell_type": "code",
   "execution_count": 10,
   "id": "c0562549-5bfa-4f12-95dd-a1891eda295a",
   "metadata": {},
   "outputs": [
    {
     "name": "stdout",
     "output_type": "stream",
     "text": [
      "{'d', 'a', 'e', 'c', 'n'}\n"
     ]
    }
   ],
   "source": [
    "#Avoiding duplicates\n",
    "s={'a','c','e','d'}\n",
    "s.update('and')\n",
    "print(s)"
   ]
  },
  {
   "cell_type": "code",
   "execution_count": 11,
   "id": "ab3d7d89-6208-4ce5-aef0-18a4a940d116",
   "metadata": {},
   "outputs": [
    {
     "name": "stdout",
     "output_type": "stream",
     "text": [
      "set()\n"
     ]
    }
   ],
   "source": [
    "#Clear function\n",
    "s={'a','c','e','d'}\n",
    "s.clear()\n",
    "print(s)"
   ]
  },
  {
   "cell_type": "code",
   "execution_count": null,
   "id": "b171b249-f574-421f-a61e-3bf703ed11b5",
   "metadata": {},
   "outputs": [],
   "source": []
  }
 ],
 "metadata": {
  "kernelspec": {
   "display_name": "Python 3 (ipykernel)",
   "language": "python",
   "name": "python3"
  },
  "language_info": {
   "codemirror_mode": {
    "name": "ipython",
    "version": 3
   },
   "file_extension": ".py",
   "mimetype": "text/x-python",
   "name": "python",
   "nbconvert_exporter": "python",
   "pygments_lexer": "ipython3",
   "version": "3.13.5"
  }
 },
 "nbformat": 4,
 "nbformat_minor": 5
}
